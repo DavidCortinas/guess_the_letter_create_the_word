{
 "cells": [
  {
   "cell_type": "markdown",
   "metadata": {},
   "source": [
    "**Create a Letter Guessing Game**\n",
    "\n",
    "Create a program that allows a user 7 chances to guess the correct word. If they do not guess the word after 7 tries, the player loses and the program will print the correct word. Otherwise, the play wins and the game.\n",
    "\n",
    "**How to build the program**\n",
    "* When you start the game, you will need to select a random word from a list of at least 10 words (You have full control over which words you want to use for you program). This will be your secret word. Your secret word will be represented in the program as a group of underscores. For as long as the word is, you should also have that many underscores. \n",
    "\n",
    "* Once the word is selected, your game will commence. Perform a Google search to figure out how to select a random word from a list using Python.<br>\n",
    "**Hint** There's package you can import into your application that does this for you.\n",
    "\n",
    "* The end user will have a total of 7 chances to guess the correct letter from the secret word. If the end user makes 7 incorrect guesses, the game will end.\n",
    "\n",
    "* As you guess the correct letters, the letters you have guess will then take place of the underscores that letter represents. <br>\n",
    "**For Example**: If your secret word is 'watermelon' and  so far you have guessed the letters 'a' and 'e', the word you're trying to guess will appear as follows: _ a _ e _ _ e _ _ _.<br>\n",
    "**Keep in mind** that if you guess a letter that appears more than once in your secret word, make sure that the letter is populated anywhere that letter would be."
   ]
  },
  {
   "cell_type": "code",
   "execution_count": 2,
   "metadata": {},
   "outputs": [
    {
     "ename": "IndentationError",
     "evalue": "expected an indented block (<ipython-input-2-4ea6e60a9ac8>, line 17)",
     "output_type": "error",
     "traceback": [
      "\u001b[0;36m  File \u001b[0;32m\"<ipython-input-2-4ea6e60a9ac8>\"\u001b[0;36m, line \u001b[0;32m17\u001b[0m\n\u001b[0;31m    class Game:\u001b[0m\n\u001b[0m               ^\u001b[0m\n\u001b[0;31mIndentationError\u001b[0m\u001b[0;31m:\u001b[0m expected an indented block\n"
     ]
    }
   ],
   "source": [
    "from IPython.display import clear_output as co\n",
    "import random\n",
    "\n",
    "# class Player:\n",
    "#     def __init__(self):\n",
    "#         guess = input(\"Pick a letter to guess if it is in the secret word. \")\n",
    "\n",
    "class Word:\n",
    "    word_bank = ['watermelon', 'papaya', 'mango', 'banana', 'grape', 'blueberry', 'rasberry', 'kiwi', 'peach', 'cantaloupe']\n",
    "    \n",
    "    def __init__(self):\n",
    "        self.selection = random.choice(self.word_bank)\n",
    "        self.placeholder = ['_' for letter in self.selection]\n",
    "        \n",
    "    def display(self):\n",
    "        \n",
    "class Game:\n",
    "    chances = 7\n",
    "    \n",
    "    \n",
    "    @classmethod\n",
    "    def run(self):\n",
    "        word = Word()\n",
    "        game_over = False\n",
    "        guessed_letters = set()\n",
    "        \n",
    "        while not game_over:\n",
    "            if chances == 0:\n",
    "                game_over = True\n",
    "                print(f\"You're out of guesses. Game over! The correct word was {selection}\")\n",
    "                break\n",
    "            if word.placeholder == list(word.selection):\n",
    "                print(f\" You have guess the word '{word.selection}' correctly.\")\n",
    "                break\n",
    "            \n",
    "            clear_output()\n",
    "            confirm = input(\"Press any key to continue. Type 'quit' to exit the program. \").lower()\n",
    "            if confirm == 'quit':\n",
    "                game_over = True\n",
    "            print(word.placeholder())\n",
    "            print(f\"You have {self.chances} chances remaining. \")\n",
    "            \n",
    "            guess = input('Guess a letter: ').lower()\n",
    "            \n",
    "            if guess in self.guessed_letters:\n",
    "                input(\"You've already guessed that letter. Try again. \")\n",
    "            else: \n",
    "                self.guessed_letters.add(guess)\n",
    "            \n",
    "                if guess in word.selection:\n",
    "                    for idx, letter in enumerate(word.selection):\n",
    "                        if guess == letter:\n",
    "                            word.selection[idx] = letter\n",
    "                else:\n",
    "                    print(\"That letter was not found in the word. \")\n",
    "                    self.chnces -= 1\n",
    "\n",
    "Game.run()"
   ]
  },
  {
   "cell_type": "code",
   "execution_count": null,
   "metadata": {},
   "outputs": [],
   "source": []
  },
  {
   "cell_type": "code",
   "execution_count": null,
   "metadata": {},
   "outputs": [],
   "source": []
  }
 ],
 "metadata": {
  "kernelspec": {
   "display_name": "Python 3",
   "language": "python",
   "name": "python3"
  },
  "language_info": {
   "codemirror_mode": {
    "name": "ipython",
    "version": 3
   },
   "file_extension": ".py",
   "mimetype": "text/x-python",
   "name": "python",
   "nbconvert_exporter": "python",
   "pygments_lexer": "ipython3",
   "version": "3.8.5"
  }
 },
 "nbformat": 4,
 "nbformat_minor": 2
}
